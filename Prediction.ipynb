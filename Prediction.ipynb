{
 "cells": [
  {
   "cell_type": "code",
   "execution_count": 9,
   "id": "1fe569f7-69e2-42a2-b3b4-63714f7bfde5",
   "metadata": {},
   "outputs": [],
   "source": [
    "# Step 1: Import Libraries and Load the Model\n",
    "import numpy as np\n",
    "import tensorflow as tf\n",
    "from tensorflow.keras.datasets import imdb\n",
    "from tensorflow.keras.preprocessing import sequence\n",
    "from tensorflow.keras.models import load_model"
   ]
  },
  {
   "cell_type": "code",
   "execution_count": 10,
   "id": "e82afe2b-aab3-4227-8bf7-4c0c93675e7a",
   "metadata": {},
   "outputs": [],
   "source": [
    "# Load the IMDB dataset word index\n",
    "word_index = imdb.get_word_index()\n",
    "reverse_word_index = {value:key for key,value in word_index.items()}"
   ]
  },
  {
   "cell_type": "code",
   "execution_count": 11,
   "id": "d402a83d-0612-4ff8-b8a9-1dd7e3139b0d",
   "metadata": {},
   "outputs": [
    {
     "data": {
      "text/html": [
       "<pre style=\"white-space:pre;overflow-x:auto;line-height:normal;font-family:Menlo,'DejaVu Sans Mono',consolas,'Courier New',monospace\"><span style=\"font-weight: bold\">Model: \"sequential_2\"</span>\n",
       "</pre>\n"
      ],
      "text/plain": [
       "\u001b[1mModel: \"sequential_2\"\u001b[0m\n"
      ]
     },
     "metadata": {},
     "output_type": "display_data"
    },
    {
     "data": {
      "text/html": [
       "<pre style=\"white-space:pre;overflow-x:auto;line-height:normal;font-family:Menlo,'DejaVu Sans Mono',consolas,'Courier New',monospace\">┏━━━━━━━━━━━━━━━━━━━━━━━━━━━━━━━━━━━━━━┳━━━━━━━━━━━━━━━━━━━━━━━━━━━━━┳━━━━━━━━━━━━━━━━━┓\n",
       "┃<span style=\"font-weight: bold\"> Layer (type)                         </span>┃<span style=\"font-weight: bold\"> Output Shape                </span>┃<span style=\"font-weight: bold\">         Param # </span>┃\n",
       "┡━━━━━━━━━━━━━━━━━━━━━━━━━━━━━━━━━━━━━━╇━━━━━━━━━━━━━━━━━━━━━━━━━━━━━╇━━━━━━━━━━━━━━━━━┩\n",
       "│ embedding_2 (<span style=\"color: #0087ff; text-decoration-color: #0087ff\">Embedding</span>)              │ (<span style=\"color: #00d7ff; text-decoration-color: #00d7ff\">None</span>, <span style=\"color: #00af00; text-decoration-color: #00af00\">500</span>, <span style=\"color: #00af00; text-decoration-color: #00af00\">128</span>)            │       <span style=\"color: #00af00; text-decoration-color: #00af00\">1,280,000</span> │\n",
       "├──────────────────────────────────────┼─────────────────────────────┼─────────────────┤\n",
       "│ simple_rnn_2 (<span style=\"color: #0087ff; text-decoration-color: #0087ff\">SimpleRNN</span>)             │ (<span style=\"color: #00d7ff; text-decoration-color: #00d7ff\">None</span>, <span style=\"color: #00af00; text-decoration-color: #00af00\">128</span>)                 │          <span style=\"color: #00af00; text-decoration-color: #00af00\">32,896</span> │\n",
       "├──────────────────────────────────────┼─────────────────────────────┼─────────────────┤\n",
       "│ dense_2 (<span style=\"color: #0087ff; text-decoration-color: #0087ff\">Dense</span>)                      │ (<span style=\"color: #00d7ff; text-decoration-color: #00d7ff\">None</span>, <span style=\"color: #00af00; text-decoration-color: #00af00\">1</span>)                   │             <span style=\"color: #00af00; text-decoration-color: #00af00\">129</span> │\n",
       "└──────────────────────────────────────┴─────────────────────────────┴─────────────────┘\n",
       "</pre>\n"
      ],
      "text/plain": [
       "┏━━━━━━━━━━━━━━━━━━━━━━━━━━━━━━━━━━━━━━┳━━━━━━━━━━━━━━━━━━━━━━━━━━━━━┳━━━━━━━━━━━━━━━━━┓\n",
       "┃\u001b[1m \u001b[0m\u001b[1mLayer (type)                        \u001b[0m\u001b[1m \u001b[0m┃\u001b[1m \u001b[0m\u001b[1mOutput Shape               \u001b[0m\u001b[1m \u001b[0m┃\u001b[1m \u001b[0m\u001b[1m        Param #\u001b[0m\u001b[1m \u001b[0m┃\n",
       "┡━━━━━━━━━━━━━━━━━━━━━━━━━━━━━━━━━━━━━━╇━━━━━━━━━━━━━━━━━━━━━━━━━━━━━╇━━━━━━━━━━━━━━━━━┩\n",
       "│ embedding_2 (\u001b[38;5;33mEmbedding\u001b[0m)              │ (\u001b[38;5;45mNone\u001b[0m, \u001b[38;5;34m500\u001b[0m, \u001b[38;5;34m128\u001b[0m)            │       \u001b[38;5;34m1,280,000\u001b[0m │\n",
       "├──────────────────────────────────────┼─────────────────────────────┼─────────────────┤\n",
       "│ simple_rnn_2 (\u001b[38;5;33mSimpleRNN\u001b[0m)             │ (\u001b[38;5;45mNone\u001b[0m, \u001b[38;5;34m128\u001b[0m)                 │          \u001b[38;5;34m32,896\u001b[0m │\n",
       "├──────────────────────────────────────┼─────────────────────────────┼─────────────────┤\n",
       "│ dense_2 (\u001b[38;5;33mDense\u001b[0m)                      │ (\u001b[38;5;45mNone\u001b[0m, \u001b[38;5;34m1\u001b[0m)                   │             \u001b[38;5;34m129\u001b[0m │\n",
       "└──────────────────────────────────────┴─────────────────────────────┴─────────────────┘\n"
      ]
     },
     "metadata": {},
     "output_type": "display_data"
    },
    {
     "data": {
      "text/html": [
       "<pre style=\"white-space:pre;overflow-x:auto;line-height:normal;font-family:Menlo,'DejaVu Sans Mono',consolas,'Courier New',monospace\"><span style=\"font-weight: bold\"> Total params: </span><span style=\"color: #00af00; text-decoration-color: #00af00\">3,939,077</span> (15.03 MB)\n",
       "</pre>\n"
      ],
      "text/plain": [
       "\u001b[1m Total params: \u001b[0m\u001b[38;5;34m3,939,077\u001b[0m (15.03 MB)\n"
      ]
     },
     "metadata": {},
     "output_type": "display_data"
    },
    {
     "data": {
      "text/html": [
       "<pre style=\"white-space:pre;overflow-x:auto;line-height:normal;font-family:Menlo,'DejaVu Sans Mono',consolas,'Courier New',monospace\"><span style=\"font-weight: bold\"> Trainable params: </span><span style=\"color: #00af00; text-decoration-color: #00af00\">1,313,025</span> (5.01 MB)\n",
       "</pre>\n"
      ],
      "text/plain": [
       "\u001b[1m Trainable params: \u001b[0m\u001b[38;5;34m1,313,025\u001b[0m (5.01 MB)\n"
      ]
     },
     "metadata": {},
     "output_type": "display_data"
    },
    {
     "data": {
      "text/html": [
       "<pre style=\"white-space:pre;overflow-x:auto;line-height:normal;font-family:Menlo,'DejaVu Sans Mono',consolas,'Courier New',monospace\"><span style=\"font-weight: bold\"> Non-trainable params: </span><span style=\"color: #00af00; text-decoration-color: #00af00\">0</span> (0.00 B)\n",
       "</pre>\n"
      ],
      "text/plain": [
       "\u001b[1m Non-trainable params: \u001b[0m\u001b[38;5;34m0\u001b[0m (0.00 B)\n"
      ]
     },
     "metadata": {},
     "output_type": "display_data"
    },
    {
     "data": {
      "text/html": [
       "<pre style=\"white-space:pre;overflow-x:auto;line-height:normal;font-family:Menlo,'DejaVu Sans Mono',consolas,'Courier New',monospace\"><span style=\"font-weight: bold\"> Optimizer params: </span><span style=\"color: #00af00; text-decoration-color: #00af00\">2,626,052</span> (10.02 MB)\n",
       "</pre>\n"
      ],
      "text/plain": [
       "\u001b[1m Optimizer params: \u001b[0m\u001b[38;5;34m2,626,052\u001b[0m (10.02 MB)\n"
      ]
     },
     "metadata": {},
     "output_type": "display_data"
    }
   ],
   "source": [
    "# Load the pre_trained model with ReLU activation\n",
    "model = load_model('simple_rnn_imdb.keras')\n",
    "model.summary()"
   ]
  },
  {
   "cell_type": "code",
   "execution_count": 12,
   "id": "ef7d380a-23d5-424b-a45a-65a863f870bb",
   "metadata": {
    "scrolled": true
   },
   "outputs": [
    {
     "data": {
      "text/plain": [
       "[array([[ 0.62042576,  0.66115856, -0.8082551 , ..., -0.763445  ,\n",
       "         -0.58476835,  0.88173693],\n",
       "        [ 0.01529952,  0.06888626, -0.10313824, ..., -0.09583655,\n",
       "         -0.03720139,  0.04771713],\n",
       "        [ 0.19579653,  0.04511105, -0.146393  , ..., -0.09852199,\n",
       "         -0.03244179,  0.22417246],\n",
       "        ...,\n",
       "        [ 0.02910006, -0.04601896,  0.03111002, ...,  0.02597453,\n",
       "          0.03305881, -0.07772867],\n",
       "        [-0.04317057,  0.08367588,  0.02719784, ..., -0.06990954,\n",
       "         -0.06147385,  0.1069942 ],\n",
       "        [-0.04959724, -0.01530007,  0.10286735, ...,  0.01366328,\n",
       "         -0.02172711, -0.02555485]], dtype=float32),\n",
       " array([[-0.08750129, -0.07409634,  0.06948679, ..., -0.05320872,\n",
       "          0.12406813, -0.11553326],\n",
       "        [-0.09386368, -0.0888796 , -0.02621401, ..., -0.13532901,\n",
       "          0.18602137, -0.13750158],\n",
       "        [ 0.02056444, -0.13549383, -0.00857438, ...,  0.03095394,\n",
       "          0.05069166, -0.11208575],\n",
       "        ...,\n",
       "        [-0.10929154, -0.07849962, -0.07971803, ...,  0.12783535,\n",
       "         -0.05299757,  0.0559156 ],\n",
       "        [-0.03014531,  0.13370597,  0.07107665, ..., -0.00247625,\n",
       "         -0.20125408, -0.12878531],\n",
       "        [-0.15816103,  0.00626988, -0.09147705, ..., -0.02489082,\n",
       "         -0.14761601, -0.10144657]], dtype=float32),\n",
       " array([[ 0.01978589, -0.01410131, -0.0560233 , ..., -0.05660641,\n",
       "         -0.13883425, -0.00147182],\n",
       "        [-0.00924055,  0.1175513 , -0.07371157, ..., -0.00897135,\n",
       "          0.11717706, -0.00479141],\n",
       "        [-0.08323721,  0.10722794, -0.04409543, ..., -0.24896969,\n",
       "         -0.08421913, -0.02654943],\n",
       "        ...,\n",
       "        [ 0.00260042,  0.13091391, -0.03673589, ...,  0.1295289 ,\n",
       "         -0.0932688 ,  0.04764554],\n",
       "        [ 0.21003327,  0.12225366, -0.25454772, ...,  0.04458378,\n",
       "         -0.00812011,  0.06774281],\n",
       "        [ 0.07629271, -0.04422695,  0.07019624, ..., -0.2246828 ,\n",
       "         -0.08059303,  0.1109141 ]], dtype=float32),\n",
       " array([-0.02727178,  0.00971918, -0.02413272, -0.02466242,  0.03536899,\n",
       "        -0.02330089, -0.00722339, -0.03192697, -0.01803059,  0.0395578 ,\n",
       "        -0.02738987,  0.00785686, -0.00746767,  0.0018887 ,  0.00093716,\n",
       "         0.0176123 , -0.01981901, -0.01273561, -0.02045801, -0.01972692,\n",
       "        -0.01801955, -0.02894801, -0.02060996,  0.00169076,  0.01986189,\n",
       "         0.01069171, -0.0229539 ,  0.03079864, -0.01979577, -0.0212599 ,\n",
       "        -0.02418504, -0.02082542,  0.02836441, -0.02880344,  0.00223981,\n",
       "         0.00372078, -0.02710232,  0.01195355, -0.01956252, -0.01213994,\n",
       "        -0.01442369,  0.00855215, -0.02139772, -0.02908072, -0.02198712,\n",
       "        -0.01121441, -0.02370698,  0.02809246, -0.03046548,  0.01830135,\n",
       "        -0.00477391, -0.01056347,  0.01912829, -0.00668377, -0.01752949,\n",
       "        -0.02606586, -0.05684967, -0.03400766,  0.00453239, -0.01934635,\n",
       "        -0.01626693, -0.02118695,  0.0218726 , -0.00646749, -0.01356514,\n",
       "         0.02015486,  0.0085444 , -0.02876259, -0.04713108, -0.01342401,\n",
       "        -0.03054559, -0.02147571, -0.02278378,  0.00025193, -0.00961119,\n",
       "        -0.02306255, -0.02895817, -0.02065246,  0.00147662,  0.00872932,\n",
       "        -0.02184083,  0.03119772,  0.03385208,  0.01934205, -0.01706596,\n",
       "         0.01122387,  0.00353168, -0.03668885, -0.00340019,  0.01569785,\n",
       "        -0.03599738, -0.03497019, -0.003596  , -0.01781328,  0.00586627,\n",
       "         0.00322264, -0.00159255,  0.00489812,  0.00760366, -0.02899223,\n",
       "        -0.0418096 ,  0.00427233, -0.02059859,  0.00894241,  0.01763698,\n",
       "         0.00578764, -0.0042967 , -0.00384804, -0.01453164, -0.02472854,\n",
       "         0.00965432, -0.01049018, -0.01253702,  0.02924082,  0.00190155,\n",
       "        -0.03335359,  0.01158053, -0.01513703,  0.0039628 , -0.02388515,\n",
       "         0.02193564, -0.0082552 , -0.03678723, -0.0253127 , -0.06103565,\n",
       "         0.02066742,  0.01097562,  0.00937879], dtype=float32),\n",
       " array([[ 2.02545837e-01],\n",
       "        [-5.00332974e-02],\n",
       "        [ 2.29643986e-01],\n",
       "        [-2.41026416e-01],\n",
       "        [ 2.27550585e-02],\n",
       "        [ 1.83244690e-01],\n",
       "        [-4.43878584e-02],\n",
       "        [ 2.42723413e-02],\n",
       "        [-6.10960796e-02],\n",
       "        [-1.27181515e-01],\n",
       "        [-5.86835258e-02],\n",
       "        [-8.04064795e-02],\n",
       "        [ 1.60692129e-02],\n",
       "        [-7.91566074e-02],\n",
       "        [ 1.57545105e-01],\n",
       "        [-1.80925697e-01],\n",
       "        [ 2.97433697e-02],\n",
       "        [ 2.93988851e-03],\n",
       "        [-5.69910817e-02],\n",
       "        [ 1.27015948e-01],\n",
       "        [ 8.51739943e-02],\n",
       "        [ 3.40213150e-01],\n",
       "        [-3.95338163e-02],\n",
       "        [ 5.79051748e-02],\n",
       "        [ 1.13867879e-01],\n",
       "        [ 2.01057538e-01],\n",
       "        [ 3.82639058e-02],\n",
       "        [-7.85375983e-02],\n",
       "        [ 4.09557950e-03],\n",
       "        [ 4.21008877e-02],\n",
       "        [-2.21629575e-01],\n",
       "        [-1.27143681e-01],\n",
       "        [-1.22426637e-02],\n",
       "        [-5.03256470e-02],\n",
       "        [-1.38323531e-01],\n",
       "        [ 1.45554412e-02],\n",
       "        [ 1.60051838e-01],\n",
       "        [-1.25560507e-01],\n",
       "        [-7.80688077e-02],\n",
       "        [-6.16037324e-02],\n",
       "        [ 3.84006836e-02],\n",
       "        [ 1.43413963e-02],\n",
       "        [ 7.13549703e-02],\n",
       "        [ 1.70496896e-01],\n",
       "        [ 7.69738927e-02],\n",
       "        [-9.55686569e-02],\n",
       "        [ 4.79500294e-02],\n",
       "        [-3.72437984e-02],\n",
       "        [-1.24789305e-01],\n",
       "        [-1.35703474e-01],\n",
       "        [-5.31357909e-05],\n",
       "        [ 1.79747581e-01],\n",
       "        [-1.77426916e-02],\n",
       "        [ 4.63741198e-02],\n",
       "        [ 1.44956425e-01],\n",
       "        [ 5.59428968e-02],\n",
       "        [ 2.35247631e-02],\n",
       "        [-9.20520499e-02],\n",
       "        [ 5.72935455e-02],\n",
       "        [ 1.75040793e-02],\n",
       "        [-2.10746691e-01],\n",
       "        [ 3.58203262e-01],\n",
       "        [ 1.86846033e-01],\n",
       "        [-1.38863876e-01],\n",
       "        [-4.89475578e-02],\n",
       "        [ 1.58227786e-01],\n",
       "        [-2.01718152e-01],\n",
       "        [ 1.29256532e-01],\n",
       "        [-4.82525080e-01],\n",
       "        [-1.13726862e-01],\n",
       "        [-1.72275871e-01],\n",
       "        [ 1.23213567e-02],\n",
       "        [ 2.22962156e-01],\n",
       "        [-3.61826360e-01],\n",
       "        [ 1.38304666e-01],\n",
       "        [-1.61676720e-01],\n",
       "        [ 1.66932508e-01],\n",
       "        [-3.25348079e-02],\n",
       "        [-2.06310362e-01],\n",
       "        [-1.05062425e-01],\n",
       "        [-1.62303150e-02],\n",
       "        [ 1.28942430e-01],\n",
       "        [ 1.95194840e-01],\n",
       "        [-1.73170581e-01],\n",
       "        [ 4.50576618e-02],\n",
       "        [-9.45252329e-02],\n",
       "        [ 5.08088358e-02],\n",
       "        [ 6.40790984e-02],\n",
       "        [ 2.28878576e-03],\n",
       "        [ 1.95672855e-01],\n",
       "        [-5.90630546e-02],\n",
       "        [-1.25141397e-01],\n",
       "        [ 3.66096199e-02],\n",
       "        [ 1.14366617e-02],\n",
       "        [-1.31890610e-01],\n",
       "        [ 1.35617182e-01],\n",
       "        [ 1.53486311e-01],\n",
       "        [-5.23181772e-03],\n",
       "        [ 2.41116788e-02],\n",
       "        [ 6.61355630e-02],\n",
       "        [-3.18468921e-02],\n",
       "        [ 4.93711084e-02],\n",
       "        [ 2.25824937e-01],\n",
       "        [ 4.29022089e-02],\n",
       "        [-1.05913945e-01],\n",
       "        [-1.85432926e-01],\n",
       "        [ 1.41496003e-01],\n",
       "        [ 1.85222812e-02],\n",
       "        [ 2.32319105e-02],\n",
       "        [ 1.51679918e-01],\n",
       "        [-1.68952048e-01],\n",
       "        [ 2.47870255e-02],\n",
       "        [-1.06986620e-01],\n",
       "        [-7.07323328e-02],\n",
       "        [-2.37010702e-01],\n",
       "        [ 1.97567895e-01],\n",
       "        [ 6.05952134e-03],\n",
       "        [-4.48247604e-02],\n",
       "        [-1.72709703e-01],\n",
       "        [ 6.44142553e-02],\n",
       "        [-1.52865008e-01],\n",
       "        [ 1.59125179e-01],\n",
       "        [-5.21428399e-02],\n",
       "        [-3.93139780e-01],\n",
       "        [-2.86875933e-01],\n",
       "        [ 1.33092776e-01],\n",
       "        [-2.54786849e-01],\n",
       "        [ 1.51499197e-01]], dtype=float32),\n",
       " array([0.7377924], dtype=float32)]"
      ]
     },
     "execution_count": 12,
     "metadata": {},
     "output_type": "execute_result"
    }
   ],
   "source": [
    "model.get_weights()"
   ]
  },
  {
   "cell_type": "code",
   "execution_count": 21,
   "id": "5e13a233-d2c4-41a9-b2fc-2d4047656ae7",
   "metadata": {},
   "outputs": [],
   "source": [
    "# Step 2: Helper funstions\n",
    "\n",
    "# Functions to decode reviews\n",
    "def decode_review(encoded_review):\n",
    "    return ' '.join([reverse_word_index.get(i-3,'?') for i in encoded_review])\n",
    "\n",
    "# Function to preprocess user input\n",
    "def preprocess_text(text):\n",
    "    words = text.lower().split()\n",
    "    encoded_review = [word_index.get(word,2) + 3 for word in words]\n",
    "    padded_review = sequence.pad_sequences([encoded_review],maxlen=500)\n",
    "    return padded_review"
   ]
  },
  {
   "cell_type": "code",
   "execution_count": 22,
   "id": "a23c78dc-a55d-47e9-9f42-ed8f3074c42f",
   "metadata": {},
   "outputs": [],
   "source": [
    "### Prediction  function\n",
    "\n",
    "def predict_sentiment(review):\n",
    "    preprocessed_input=preprocess_text(review)\n",
    "\n",
    "    prediction=model.predict(preprocessed_input)\n",
    "\n",
    "    sentiment = 'Positive' if prediction[0][0] > 0.5 else 'Negative'\n",
    "    \n",
    "    return sentiment, prediction[0][0]\n"
   ]
  },
  {
   "cell_type": "code",
   "execution_count": 23,
   "id": "4fe4d641-f93a-4fb2-ba4d-1a5f6942eee9",
   "metadata": {},
   "outputs": [
    {
     "name": "stdout",
     "output_type": "stream",
     "text": [
      "\u001b[1m1/1\u001b[0m \u001b[32m━━━━━━━━━━━━━━━━━━━━\u001b[0m\u001b[37m\u001b[0m \u001b[1m0s\u001b[0m 447ms/step\n",
      "Review: This movie was fantastic! The acting was great and the plot was thrilling.\n",
      "Sentiment: Negative\n",
      "Prediction Score: 0.0004081582883372903\n"
     ]
    }
   ],
   "source": [
    "# Step 4: User Input and Prediction\n",
    "# Example review for prediction\n",
    "example_review = \"This movie was fantastic! The acting was great and the plot was thrilling.\"\n",
    "\n",
    "sentiment,score=predict_sentiment(example_review)\n",
    "\n",
    "print(f'Review: {example_review}')\n",
    "print(f'Sentiment: {sentiment}')\n",
    "print(f'Prediction Score: {score}')"
   ]
  },
  {
   "cell_type": "code",
   "execution_count": null,
   "id": "e99a9768-24c8-446b-899e-48747ed9587e",
   "metadata": {},
   "outputs": [],
   "source": []
  },
  {
   "cell_type": "code",
   "execution_count": null,
   "id": "056d7e4c-0a57-4ac4-9842-51695aeb69dd",
   "metadata": {},
   "outputs": [],
   "source": []
  },
  {
   "cell_type": "code",
   "execution_count": null,
   "id": "7b254aab-30bf-4f37-a8b8-4f2cf1d13db2",
   "metadata": {},
   "outputs": [],
   "source": []
  },
  {
   "cell_type": "code",
   "execution_count": null,
   "id": "89e29127-42a4-49f5-bf7f-452962effd28",
   "metadata": {},
   "outputs": [],
   "source": []
  },
  {
   "cell_type": "code",
   "execution_count": null,
   "id": "6a3253e0-395b-483f-9485-f59b331728b1",
   "metadata": {},
   "outputs": [],
   "source": []
  },
  {
   "cell_type": "code",
   "execution_count": null,
   "id": "94ea06e8-709c-4a7a-aaff-fd35eedf789f",
   "metadata": {},
   "outputs": [],
   "source": []
  },
  {
   "cell_type": "code",
   "execution_count": null,
   "id": "a217cffb-b616-480d-8787-11fbad39d3b9",
   "metadata": {},
   "outputs": [],
   "source": []
  },
  {
   "cell_type": "code",
   "execution_count": null,
   "id": "110fb2c4-c90d-44c0-9653-9b1e604ad7a3",
   "metadata": {},
   "outputs": [],
   "source": []
  },
  {
   "cell_type": "code",
   "execution_count": null,
   "id": "d025b634-1ecc-4213-b925-25f816beda03",
   "metadata": {},
   "outputs": [],
   "source": []
  }
 ],
 "metadata": {
  "kernelspec": {
   "display_name": "Python 3 (ipykernel)",
   "language": "python",
   "name": "python3"
  },
  "language_info": {
   "codemirror_mode": {
    "name": "ipython",
    "version": 3
   },
   "file_extension": ".py",
   "mimetype": "text/x-python",
   "name": "python",
   "nbconvert_exporter": "python",
   "pygments_lexer": "ipython3",
   "version": "3.12.4"
  }
 },
 "nbformat": 4,
 "nbformat_minor": 5
}
