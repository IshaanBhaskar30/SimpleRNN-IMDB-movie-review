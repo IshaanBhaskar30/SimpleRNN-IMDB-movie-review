{
 "cells": [
  {
   "cell_type": "code",
   "execution_count": 30,
   "id": "4fca4746-841d-4ec5-b0e9-c413de726dc2",
   "metadata": {},
   "outputs": [],
   "source": [
    "from tensorflow.keras.preprocessing.text import one_hot"
   ]
  },
  {
   "cell_type": "code",
   "execution_count": 31,
   "id": "ee115850-463c-42eb-899c-e374011137f3",
   "metadata": {},
   "outputs": [],
   "source": [
    "### sentences\n",
    "sent=[  'the glass of milk',\n",
    "     'the glass of juice',\n",
    "     'the cup of tea',\n",
    "    'I am a good boy',\n",
    "     'I am a good developer',\n",
    "     'understand the meaning of words',\n",
    "     'your videos are good',]"
   ]
  },
  {
   "cell_type": "code",
   "execution_count": 32,
   "id": "b7fc640e-12d0-47b9-88f6-516cb4b0eac7",
   "metadata": {},
   "outputs": [
    {
     "data": {
      "text/plain": [
       "['the glass of milk',\n",
       " 'the glass of juice',\n",
       " 'the cup of tea',\n",
       " 'I am a good boy',\n",
       " 'I am a good developer',\n",
       " 'understand the meaning of words',\n",
       " 'your videos are good']"
      ]
     },
     "execution_count": 32,
     "metadata": {},
     "output_type": "execute_result"
    }
   ],
   "source": [
    "sent"
   ]
  },
  {
   "cell_type": "code",
   "execution_count": 33,
   "id": "def9aa3b-265d-430b-b59d-23f0c902d0ec",
   "metadata": {},
   "outputs": [],
   "source": [
    "## Define the vocabulary size\n",
    "voc_size=10000"
   ]
  },
  {
   "cell_type": "code",
   "execution_count": 34,
   "id": "81aa0e33-76e8-4e38-9a2c-0d4540c97be7",
   "metadata": {},
   "outputs": [
    {
     "data": {
      "text/plain": [
       "['the glass of milk',\n",
       " 'the glass of juice',\n",
       " 'the cup of tea',\n",
       " 'I am a good boy',\n",
       " 'I am a good developer',\n",
       " 'understand the meaning of words',\n",
       " 'your videos are good']"
      ]
     },
     "execution_count": 34,
     "metadata": {},
     "output_type": "execute_result"
    }
   ],
   "source": [
    "sent"
   ]
  },
  {
   "cell_type": "code",
   "execution_count": 35,
   "id": "dc75a0a4-7fd0-4fe3-84d3-eaf17a2dd1de",
   "metadata": {},
   "outputs": [
    {
     "data": {
      "text/plain": [
       "[[2278, 1739, 9571, 5304],\n",
       " [2278, 1739, 9571, 2228],\n",
       " [2278, 6850, 9571, 1700],\n",
       " [5282, 2445, 133, 6362, 5434],\n",
       " [5282, 2445, 133, 6362, 1643],\n",
       " [334, 2278, 8500, 9571, 5585],\n",
       " [6291, 3951, 2696, 6362]]"
      ]
     },
     "execution_count": 35,
     "metadata": {},
     "output_type": "execute_result"
    }
   ],
   "source": [
    "### One Hot Representation\n",
    "one_hot_repr=[one_hot(words,voc_size)for words in sent]\n",
    "one_hot_repr\n",
    "# these numbers are index postions for 1 and others 0\n",
    "# for example 2278th index position is having 1 value others 0,similarly 1739 is having 1"
   ]
  },
  {
   "cell_type": "code",
   "execution_count": 36,
   "id": "779e67b6-0e43-4a5b-abad-7218b19ca47f",
   "metadata": {},
   "outputs": [],
   "source": [
    "# Word Embedding Representation\n",
    "\n",
    "from tensorflow.keras.layers import Embedding\n",
    "# from tensorflow.keras.processing.sequence import pad_sequence # --> it was earlier in the this module\n",
    "from tensorflow.keras.utils import pad_sequences\n",
    "from tensorflow.keras.models import Sequential\n",
    "import numpy as np"
   ]
  },
  {
   "cell_type": "markdown",
   "id": "1c1e5b7f-7709-43fd-9e6d-b2f537b774b2",
   "metadata": {},
   "source": [
    "pad sequence--> some of the sentences have 5 words 56 words 8 words\n",
    "so we need to make all these sentences of equal size otherwise not be able to train it \n",
    "in our RNN, So we will set ip the maximum length\n",
    "so it will add zeros before or after"
   ]
  },
  {
   "cell_type": "code",
   "execution_count": 37,
   "id": "6e3d4c2d-f23e-47e2-a5b7-b09448884d9a",
   "metadata": {},
   "outputs": [
    {
     "name": "stdout",
     "output_type": "stream",
     "text": [
      "[[   0    0    0    0 2278 1739 9571 5304]\n",
      " [   0    0    0    0 2278 1739 9571 2228]\n",
      " [   0    0    0    0 2278 6850 9571 1700]\n",
      " [   0    0    0 5282 2445  133 6362 5434]\n",
      " [   0    0    0 5282 2445  133 6362 1643]\n",
      " [   0    0    0  334 2278 8500 9571 5585]\n",
      " [   0    0    0    0 6291 3951 2696 6362]]\n"
     ]
    }
   ],
   "source": [
    "sent_length=8\n",
    "embedded_docs=pad_sequences(one_hot_repr,padding='pre',maxlen=sent_length)\n",
    "print(embedded_docs)\n",
    "# padding='post' will add zeros after"
   ]
  },
  {
   "cell_type": "code",
   "execution_count": 38,
   "id": "2dc0b222-17c8-411a-bdd2-09834277fc19",
   "metadata": {},
   "outputs": [],
   "source": [
    "## feature representation\n",
    "dim=10"
   ]
  },
  {
   "cell_type": "code",
   "execution_count": 39,
   "id": "3a7bd8f0-ec72-44e7-8edd-993cb910b099",
   "metadata": {},
   "outputs": [],
   "source": [
    "model=Sequential()\n",
    "model.add(Embedding(voc_size,dim,input_length=sent_length))\n",
    "model.compile('adam','mse')"
   ]
  },
  {
   "cell_type": "code",
   "execution_count": 40,
   "id": "1ab53706-007c-404b-9f48-1aa6868a6668",
   "metadata": {},
   "outputs": [
    {
     "data": {
      "text/html": [
       "<pre style=\"white-space:pre;overflow-x:auto;line-height:normal;font-family:Menlo,'DejaVu Sans Mono',consolas,'Courier New',monospace\"><span style=\"font-weight: bold\">Model: \"sequential_3\"</span>\n",
       "</pre>\n"
      ],
      "text/plain": [
       "\u001b[1mModel: \"sequential_3\"\u001b[0m\n"
      ]
     },
     "metadata": {},
     "output_type": "display_data"
    },
    {
     "data": {
      "text/html": [
       "<pre style=\"white-space:pre;overflow-x:auto;line-height:normal;font-family:Menlo,'DejaVu Sans Mono',consolas,'Courier New',monospace\">┏━━━━━━━━━━━━━━━━━━━━━━━━━━━━━━━━━━━━━━┳━━━━━━━━━━━━━━━━━━━━━━━━━━━━━┳━━━━━━━━━━━━━━━━━┓\n",
       "┃<span style=\"font-weight: bold\"> Layer (type)                         </span>┃<span style=\"font-weight: bold\"> Output Shape                </span>┃<span style=\"font-weight: bold\">         Param # </span>┃\n",
       "┡━━━━━━━━━━━━━━━━━━━━━━━━━━━━━━━━━━━━━━╇━━━━━━━━━━━━━━━━━━━━━━━━━━━━━╇━━━━━━━━━━━━━━━━━┩\n",
       "│ embedding_3 (<span style=\"color: #0087ff; text-decoration-color: #0087ff\">Embedding</span>)              │ ?                           │     <span style=\"color: #00af00; text-decoration-color: #00af00\">0</span> (unbuilt) │\n",
       "└──────────────────────────────────────┴─────────────────────────────┴─────────────────┘\n",
       "</pre>\n"
      ],
      "text/plain": [
       "┏━━━━━━━━━━━━━━━━━━━━━━━━━━━━━━━━━━━━━━┳━━━━━━━━━━━━━━━━━━━━━━━━━━━━━┳━━━━━━━━━━━━━━━━━┓\n",
       "┃\u001b[1m \u001b[0m\u001b[1mLayer (type)                        \u001b[0m\u001b[1m \u001b[0m┃\u001b[1m \u001b[0m\u001b[1mOutput Shape               \u001b[0m\u001b[1m \u001b[0m┃\u001b[1m \u001b[0m\u001b[1m        Param #\u001b[0m\u001b[1m \u001b[0m┃\n",
       "┡━━━━━━━━━━━━━━━━━━━━━━━━━━━━━━━━━━━━━━╇━━━━━━━━━━━━━━━━━━━━━━━━━━━━━╇━━━━━━━━━━━━━━━━━┩\n",
       "│ embedding_3 (\u001b[38;5;33mEmbedding\u001b[0m)              │ ?                           │     \u001b[38;5;34m0\u001b[0m (unbuilt) │\n",
       "└──────────────────────────────────────┴─────────────────────────────┴─────────────────┘\n"
      ]
     },
     "metadata": {},
     "output_type": "display_data"
    },
    {
     "data": {
      "text/html": [
       "<pre style=\"white-space:pre;overflow-x:auto;line-height:normal;font-family:Menlo,'DejaVu Sans Mono',consolas,'Courier New',monospace\"><span style=\"font-weight: bold\"> Total params: </span><span style=\"color: #00af00; text-decoration-color: #00af00\">0</span> (0.00 B)\n",
       "</pre>\n"
      ],
      "text/plain": [
       "\u001b[1m Total params: \u001b[0m\u001b[38;5;34m0\u001b[0m (0.00 B)\n"
      ]
     },
     "metadata": {},
     "output_type": "display_data"
    },
    {
     "data": {
      "text/html": [
       "<pre style=\"white-space:pre;overflow-x:auto;line-height:normal;font-family:Menlo,'DejaVu Sans Mono',consolas,'Courier New',monospace\"><span style=\"font-weight: bold\"> Trainable params: </span><span style=\"color: #00af00; text-decoration-color: #00af00\">0</span> (0.00 B)\n",
       "</pre>\n"
      ],
      "text/plain": [
       "\u001b[1m Trainable params: \u001b[0m\u001b[38;5;34m0\u001b[0m (0.00 B)\n"
      ]
     },
     "metadata": {},
     "output_type": "display_data"
    },
    {
     "data": {
      "text/html": [
       "<pre style=\"white-space:pre;overflow-x:auto;line-height:normal;font-family:Menlo,'DejaVu Sans Mono',consolas,'Courier New',monospace\"><span style=\"font-weight: bold\"> Non-trainable params: </span><span style=\"color: #00af00; text-decoration-color: #00af00\">0</span> (0.00 B)\n",
       "</pre>\n"
      ],
      "text/plain": [
       "\u001b[1m Non-trainable params: \u001b[0m\u001b[38;5;34m0\u001b[0m (0.00 B)\n"
      ]
     },
     "metadata": {},
     "output_type": "display_data"
    }
   ],
   "source": [
    "model.summary()"
   ]
  },
  {
   "cell_type": "code",
   "execution_count": 41,
   "id": "96b646bf-aec1-4573-977f-74fa47572e9a",
   "metadata": {},
   "outputs": [
    {
     "name": "stdout",
     "output_type": "stream",
     "text": [
      "\u001b[1m1/1\u001b[0m \u001b[32m━━━━━━━━━━━━━━━━━━━━\u001b[0m\u001b[37m\u001b[0m \u001b[1m0s\u001b[0m 352ms/step\n"
     ]
    },
    {
     "data": {
      "text/plain": [
       "array([[[-0.02960631,  0.04801137,  0.0400278 , -0.02089936,\n",
       "          0.02154669, -0.03477478,  0.01717866, -0.04558021,\n",
       "         -0.03729407, -0.03304984],\n",
       "        [-0.02960631,  0.04801137,  0.0400278 , -0.02089936,\n",
       "          0.02154669, -0.03477478,  0.01717866, -0.04558021,\n",
       "         -0.03729407, -0.03304984],\n",
       "        [-0.02960631,  0.04801137,  0.0400278 , -0.02089936,\n",
       "          0.02154669, -0.03477478,  0.01717866, -0.04558021,\n",
       "         -0.03729407, -0.03304984],\n",
       "        [-0.02960631,  0.04801137,  0.0400278 , -0.02089936,\n",
       "          0.02154669, -0.03477478,  0.01717866, -0.04558021,\n",
       "         -0.03729407, -0.03304984],\n",
       "        [ 0.00241334,  0.04774747,  0.03059487, -0.02734684,\n",
       "         -0.01332542,  0.0179741 ,  0.04831275,  0.01405897,\n",
       "          0.04369882,  0.00554033],\n",
       "        [-0.01387401, -0.02530247, -0.02867003, -0.01406846,\n",
       "          0.03452181,  0.03093341, -0.04095682,  0.02110654,\n",
       "         -0.03672564, -0.01878853],\n",
       "        [ 0.02562989, -0.02949967, -0.03645717, -0.01086243,\n",
       "         -0.00886607,  0.04700268, -0.04237106, -0.01246496,\n",
       "          0.00477706, -0.00821068],\n",
       "        [ 0.03161613,  0.01714594,  0.03607888,  0.03336802,\n",
       "          0.04148648, -0.0408386 , -0.02902433, -0.03010637,\n",
       "          0.00939418, -0.0419216 ]],\n",
       "\n",
       "       [[-0.02960631,  0.04801137,  0.0400278 , -0.02089936,\n",
       "          0.02154669, -0.03477478,  0.01717866, -0.04558021,\n",
       "         -0.03729407, -0.03304984],\n",
       "        [-0.02960631,  0.04801137,  0.0400278 , -0.02089936,\n",
       "          0.02154669, -0.03477478,  0.01717866, -0.04558021,\n",
       "         -0.03729407, -0.03304984],\n",
       "        [-0.02960631,  0.04801137,  0.0400278 , -0.02089936,\n",
       "          0.02154669, -0.03477478,  0.01717866, -0.04558021,\n",
       "         -0.03729407, -0.03304984],\n",
       "        [-0.02960631,  0.04801137,  0.0400278 , -0.02089936,\n",
       "          0.02154669, -0.03477478,  0.01717866, -0.04558021,\n",
       "         -0.03729407, -0.03304984],\n",
       "        [ 0.00241334,  0.04774747,  0.03059487, -0.02734684,\n",
       "         -0.01332542,  0.0179741 ,  0.04831275,  0.01405897,\n",
       "          0.04369882,  0.00554033],\n",
       "        [-0.01387401, -0.02530247, -0.02867003, -0.01406846,\n",
       "          0.03452181,  0.03093341, -0.04095682,  0.02110654,\n",
       "         -0.03672564, -0.01878853],\n",
       "        [ 0.02562989, -0.02949967, -0.03645717, -0.01086243,\n",
       "         -0.00886607,  0.04700268, -0.04237106, -0.01246496,\n",
       "          0.00477706, -0.00821068],\n",
       "        [ 0.04148561, -0.02011943,  0.01709154, -0.04752033,\n",
       "          0.03627143, -0.03653783,  0.03407452,  0.02807642,\n",
       "         -0.01126585,  0.03751803]],\n",
       "\n",
       "       [[-0.02960631,  0.04801137,  0.0400278 , -0.02089936,\n",
       "          0.02154669, -0.03477478,  0.01717866, -0.04558021,\n",
       "         -0.03729407, -0.03304984],\n",
       "        [-0.02960631,  0.04801137,  0.0400278 , -0.02089936,\n",
       "          0.02154669, -0.03477478,  0.01717866, -0.04558021,\n",
       "         -0.03729407, -0.03304984],\n",
       "        [-0.02960631,  0.04801137,  0.0400278 , -0.02089936,\n",
       "          0.02154669, -0.03477478,  0.01717866, -0.04558021,\n",
       "         -0.03729407, -0.03304984],\n",
       "        [-0.02960631,  0.04801137,  0.0400278 , -0.02089936,\n",
       "          0.02154669, -0.03477478,  0.01717866, -0.04558021,\n",
       "         -0.03729407, -0.03304984],\n",
       "        [ 0.00241334,  0.04774747,  0.03059487, -0.02734684,\n",
       "         -0.01332542,  0.0179741 ,  0.04831275,  0.01405897,\n",
       "          0.04369882,  0.00554033],\n",
       "        [-0.02446388, -0.04529796,  0.04198075,  0.03771153,\n",
       "          0.00549637, -0.03421377,  0.01940871,  0.01020066,\n",
       "         -0.02295473, -0.02719525],\n",
       "        [ 0.02562989, -0.02949967, -0.03645717, -0.01086243,\n",
       "         -0.00886607,  0.04700268, -0.04237106, -0.01246496,\n",
       "          0.00477706, -0.00821068],\n",
       "        [-0.00740314, -0.0230162 ,  0.03977901, -0.02505447,\n",
       "          0.02438049,  0.01070269,  0.02096841,  0.02711168,\n",
       "         -0.03470562,  0.03006491]],\n",
       "\n",
       "       [[-0.02960631,  0.04801137,  0.0400278 , -0.02089936,\n",
       "          0.02154669, -0.03477478,  0.01717866, -0.04558021,\n",
       "         -0.03729407, -0.03304984],\n",
       "        [-0.02960631,  0.04801137,  0.0400278 , -0.02089936,\n",
       "          0.02154669, -0.03477478,  0.01717866, -0.04558021,\n",
       "         -0.03729407, -0.03304984],\n",
       "        [-0.02960631,  0.04801137,  0.0400278 , -0.02089936,\n",
       "          0.02154669, -0.03477478,  0.01717866, -0.04558021,\n",
       "         -0.03729407, -0.03304984],\n",
       "        [-0.00201529,  0.00089893,  0.03281348, -0.02119871,\n",
       "          0.03161583, -0.03466265, -0.03369441,  0.02843245,\n",
       "         -0.00354768, -0.02903841],\n",
       "        [-0.04698331, -0.03435739, -0.0378857 , -0.0034768 ,\n",
       "         -0.01248007,  0.01528288, -0.00809081, -0.00574445,\n",
       "         -0.01421882,  0.01856228],\n",
       "        [ 0.01774284,  0.03903798, -0.0214179 ,  0.02973842,\n",
       "          0.02875948, -0.04348799, -0.02669821, -0.00067826,\n",
       "          0.03808722, -0.01732928],\n",
       "        [ 0.02708585,  0.02933506, -0.04989311,  0.03333789,\n",
       "          0.0201018 , -0.04020112, -0.0019313 ,  0.00068063,\n",
       "         -0.04666857,  0.01620216],\n",
       "        [-0.03852154,  0.00709827,  0.00989044,  0.01124274,\n",
       "         -0.01609446,  0.04736949, -0.01307399, -0.01478938,\n",
       "         -0.02937897,  0.03957628]],\n",
       "\n",
       "       [[-0.02960631,  0.04801137,  0.0400278 , -0.02089936,\n",
       "          0.02154669, -0.03477478,  0.01717866, -0.04558021,\n",
       "         -0.03729407, -0.03304984],\n",
       "        [-0.02960631,  0.04801137,  0.0400278 , -0.02089936,\n",
       "          0.02154669, -0.03477478,  0.01717866, -0.04558021,\n",
       "         -0.03729407, -0.03304984],\n",
       "        [-0.02960631,  0.04801137,  0.0400278 , -0.02089936,\n",
       "          0.02154669, -0.03477478,  0.01717866, -0.04558021,\n",
       "         -0.03729407, -0.03304984],\n",
       "        [-0.00201529,  0.00089893,  0.03281348, -0.02119871,\n",
       "          0.03161583, -0.03466265, -0.03369441,  0.02843245,\n",
       "         -0.00354768, -0.02903841],\n",
       "        [-0.04698331, -0.03435739, -0.0378857 , -0.0034768 ,\n",
       "         -0.01248007,  0.01528288, -0.00809081, -0.00574445,\n",
       "         -0.01421882,  0.01856228],\n",
       "        [ 0.01774284,  0.03903798, -0.0214179 ,  0.02973842,\n",
       "          0.02875948, -0.04348799, -0.02669821, -0.00067826,\n",
       "          0.03808722, -0.01732928],\n",
       "        [ 0.02708585,  0.02933506, -0.04989311,  0.03333789,\n",
       "          0.0201018 , -0.04020112, -0.0019313 ,  0.00068063,\n",
       "         -0.04666857,  0.01620216],\n",
       "        [-0.0211816 , -0.02882826,  0.02070652,  0.04079063,\n",
       "         -0.00230931,  0.03436268,  0.03370932, -0.02413211,\n",
       "         -0.04744352,  0.00303607]],\n",
       "\n",
       "       [[-0.02960631,  0.04801137,  0.0400278 , -0.02089936,\n",
       "          0.02154669, -0.03477478,  0.01717866, -0.04558021,\n",
       "         -0.03729407, -0.03304984],\n",
       "        [-0.02960631,  0.04801137,  0.0400278 , -0.02089936,\n",
       "          0.02154669, -0.03477478,  0.01717866, -0.04558021,\n",
       "         -0.03729407, -0.03304984],\n",
       "        [-0.02960631,  0.04801137,  0.0400278 , -0.02089936,\n",
       "          0.02154669, -0.03477478,  0.01717866, -0.04558021,\n",
       "         -0.03729407, -0.03304984],\n",
       "        [-0.03160002, -0.01708053, -0.00305928, -0.01421715,\n",
       "          0.01256532, -0.03353475,  0.03764785,  0.01579985,\n",
       "          0.02966249,  0.03829316],\n",
       "        [ 0.00241334,  0.04774747,  0.03059487, -0.02734684,\n",
       "         -0.01332542,  0.0179741 ,  0.04831275,  0.01405897,\n",
       "          0.04369882,  0.00554033],\n",
       "        [ 0.03468493, -0.00851672,  0.04879503, -0.01438265,\n",
       "         -0.03083478,  0.03573844,  0.04558894,  0.01751449,\n",
       "         -0.0019948 ,  0.04894142],\n",
       "        [ 0.02562989, -0.02949967, -0.03645717, -0.01086243,\n",
       "         -0.00886607,  0.04700268, -0.04237106, -0.01246496,\n",
       "          0.00477706, -0.00821068],\n",
       "        [ 0.0248867 , -0.02835084, -0.01123416, -0.02214662,\n",
       "         -0.04475265,  0.02695012,  0.01246855, -0.02242266,\n",
       "          0.02453281,  0.03902045]],\n",
       "\n",
       "       [[-0.02960631,  0.04801137,  0.0400278 , -0.02089936,\n",
       "          0.02154669, -0.03477478,  0.01717866, -0.04558021,\n",
       "         -0.03729407, -0.03304984],\n",
       "        [-0.02960631,  0.04801137,  0.0400278 , -0.02089936,\n",
       "          0.02154669, -0.03477478,  0.01717866, -0.04558021,\n",
       "         -0.03729407, -0.03304984],\n",
       "        [-0.02960631,  0.04801137,  0.0400278 , -0.02089936,\n",
       "          0.02154669, -0.03477478,  0.01717866, -0.04558021,\n",
       "         -0.03729407, -0.03304984],\n",
       "        [-0.02960631,  0.04801137,  0.0400278 , -0.02089936,\n",
       "          0.02154669, -0.03477478,  0.01717866, -0.04558021,\n",
       "         -0.03729407, -0.03304984],\n",
       "        [-0.03917718, -0.02100439,  0.01525459, -0.0305432 ,\n",
       "          0.01601965,  0.03097052, -0.03828881,  0.01328349,\n",
       "         -0.04652559, -0.03944248],\n",
       "        [ 0.04180958,  0.02252122,  0.00372492,  0.00701683,\n",
       "         -0.02088447, -0.01581075,  0.01986892,  0.01575775,\n",
       "         -0.01719753,  0.04083535],\n",
       "        [-0.04789823,  0.01830805, -0.00079534,  0.01629323,\n",
       "          0.04283854,  0.04490319, -0.00435128,  0.00297128,\n",
       "          0.02090565, -0.01768539],\n",
       "        [ 0.02708585,  0.02933506, -0.04989311,  0.03333789,\n",
       "          0.0201018 , -0.04020112, -0.0019313 ,  0.00068063,\n",
       "         -0.04666857,  0.01620216]]], dtype=float32)"
      ]
     },
     "execution_count": 41,
     "metadata": {},
     "output_type": "execute_result"
    }
   ],
   "source": [
    "model.predict(embedded_docs)"
   ]
  },
  {
   "cell_type": "code",
   "execution_count": 42,
   "id": "88b28525-a47b-4c51-8682-9b17eb84b3fe",
   "metadata": {},
   "outputs": [
    {
     "data": {
      "text/plain": [
       "array([   0,    0,    0,    0, 2278, 1739, 9571, 5304])"
      ]
     },
     "execution_count": 42,
     "metadata": {},
     "output_type": "execute_result"
    }
   ],
   "source": [
    "embedded_docs[0]"
   ]
  },
  {
   "cell_type": "code",
   "execution_count": 43,
   "id": "ede6c64b-0431-415e-be01-7cedbe8facda",
   "metadata": {},
   "outputs": [
    {
     "ename": "ValueError",
     "evalue": "Exception encountered when calling Sequential.call().\n\n\u001b[1mCannot take the length of shape with unknown rank.\u001b[0m\n\nArguments received by Sequential.call():\n  • inputs=tf.Tensor(shape=<unknown>, dtype=int32)\n  • training=False\n  • mask=None",
     "output_type": "error",
     "traceback": [
      "\u001b[1;31m---------------------------------------------------------------------------\u001b[0m",
      "\u001b[1;31mValueError\u001b[0m                                Traceback (most recent call last)",
      "Cell \u001b[1;32mIn[43], line 1\u001b[0m\n\u001b[1;32m----> 1\u001b[0m \u001b[43mmodel\u001b[49m\u001b[38;5;241;43m.\u001b[39;49m\u001b[43mpredict\u001b[49m\u001b[43m(\u001b[49m\u001b[43membedded_docs\u001b[49m\u001b[43m[\u001b[49m\u001b[38;5;241;43m0\u001b[39;49m\u001b[43m]\u001b[49m\u001b[43m)\u001b[49m\n",
      "File \u001b[1;32m~\\AppData\\Local\\Programs\\Python\\Python312\\Lib\\site-packages\\keras\\src\\utils\\traceback_utils.py:122\u001b[0m, in \u001b[0;36mfilter_traceback.<locals>.error_handler\u001b[1;34m(*args, **kwargs)\u001b[0m\n\u001b[0;32m    119\u001b[0m     filtered_tb \u001b[38;5;241m=\u001b[39m _process_traceback_frames(e\u001b[38;5;241m.\u001b[39m__traceback__)\n\u001b[0;32m    120\u001b[0m     \u001b[38;5;66;03m# To get the full stack trace, call:\u001b[39;00m\n\u001b[0;32m    121\u001b[0m     \u001b[38;5;66;03m# `keras.config.disable_traceback_filtering()`\u001b[39;00m\n\u001b[1;32m--> 122\u001b[0m     \u001b[38;5;28;01mraise\u001b[39;00m e\u001b[38;5;241m.\u001b[39mwith_traceback(filtered_tb) \u001b[38;5;28;01mfrom\u001b[39;00m \u001b[38;5;28;01mNone\u001b[39;00m\n\u001b[0;32m    123\u001b[0m \u001b[38;5;28;01mfinally\u001b[39;00m:\n\u001b[0;32m    124\u001b[0m     \u001b[38;5;28;01mdel\u001b[39;00m filtered_tb\n",
      "File \u001b[1;32m~\\AppData\\Local\\Programs\\Python\\Python312\\Lib\\site-packages\\keras\\src\\utils\\traceback_utils.py:122\u001b[0m, in \u001b[0;36mfilter_traceback.<locals>.error_handler\u001b[1;34m(*args, **kwargs)\u001b[0m\n\u001b[0;32m    119\u001b[0m     filtered_tb \u001b[38;5;241m=\u001b[39m _process_traceback_frames(e\u001b[38;5;241m.\u001b[39m__traceback__)\n\u001b[0;32m    120\u001b[0m     \u001b[38;5;66;03m# To get the full stack trace, call:\u001b[39;00m\n\u001b[0;32m    121\u001b[0m     \u001b[38;5;66;03m# `keras.config.disable_traceback_filtering()`\u001b[39;00m\n\u001b[1;32m--> 122\u001b[0m     \u001b[38;5;28;01mraise\u001b[39;00m e\u001b[38;5;241m.\u001b[39mwith_traceback(filtered_tb) \u001b[38;5;28;01mfrom\u001b[39;00m \u001b[38;5;28;01mNone\u001b[39;00m\n\u001b[0;32m    123\u001b[0m \u001b[38;5;28;01mfinally\u001b[39;00m:\n\u001b[0;32m    124\u001b[0m     \u001b[38;5;28;01mdel\u001b[39;00m filtered_tb\n",
      "\u001b[1;31mValueError\u001b[0m: Exception encountered when calling Sequential.call().\n\n\u001b[1mCannot take the length of shape with unknown rank.\u001b[0m\n\nArguments received by Sequential.call():\n  • inputs=tf.Tensor(shape=<unknown>, dtype=int32)\n  • training=False\n  • mask=None"
     ]
    }
   ],
   "source": [
    "model.predict(embedded_docs[0])"
   ]
  },
  {
   "cell_type": "code",
   "execution_count": 44,
   "id": "7a563edf-1620-4bfe-9a7b-eb57abef4b44",
   "metadata": {},
   "outputs": [],
   "source": [
    "embedded_docs[0] = embedded_docs[0].reshape(1, embedded_docs[0].shape[0])\n"
   ]
  },
  {
   "cell_type": "code",
   "execution_count": 45,
   "id": "4a87706f-da1f-43b2-b381-b5b409fac9df",
   "metadata": {},
   "outputs": [],
   "source": [
    "import numpy as np\n",
    "embedded_docs[0] = np.array(embedded_docs[0], dtype='float32')\n"
   ]
  },
  {
   "cell_type": "code",
   "execution_count": 46,
   "id": "00d2ef11-2f9a-4e6c-bd39-13c86b295bab",
   "metadata": {},
   "outputs": [
    {
     "ename": "ValueError",
     "evalue": "Exception encountered when calling Sequential.call().\n\n\u001b[1mCannot take the length of shape with unknown rank.\u001b[0m\n\nArguments received by Sequential.call():\n  • inputs=tf.Tensor(shape=<unknown>, dtype=int32)\n  • training=False\n  • mask=None",
     "output_type": "error",
     "traceback": [
      "\u001b[1;31m---------------------------------------------------------------------------\u001b[0m",
      "\u001b[1;31mValueError\u001b[0m                                Traceback (most recent call last)",
      "Cell \u001b[1;32mIn[46], line 1\u001b[0m\n\u001b[1;32m----> 1\u001b[0m \u001b[43mmodel\u001b[49m\u001b[38;5;241;43m.\u001b[39;49m\u001b[43mpredict\u001b[49m\u001b[43m(\u001b[49m\u001b[43membedded_docs\u001b[49m\u001b[43m[\u001b[49m\u001b[38;5;241;43m0\u001b[39;49m\u001b[43m]\u001b[49m\u001b[43m)\u001b[49m\n",
      "File \u001b[1;32m~\\AppData\\Local\\Programs\\Python\\Python312\\Lib\\site-packages\\keras\\src\\utils\\traceback_utils.py:122\u001b[0m, in \u001b[0;36mfilter_traceback.<locals>.error_handler\u001b[1;34m(*args, **kwargs)\u001b[0m\n\u001b[0;32m    119\u001b[0m     filtered_tb \u001b[38;5;241m=\u001b[39m _process_traceback_frames(e\u001b[38;5;241m.\u001b[39m__traceback__)\n\u001b[0;32m    120\u001b[0m     \u001b[38;5;66;03m# To get the full stack trace, call:\u001b[39;00m\n\u001b[0;32m    121\u001b[0m     \u001b[38;5;66;03m# `keras.config.disable_traceback_filtering()`\u001b[39;00m\n\u001b[1;32m--> 122\u001b[0m     \u001b[38;5;28;01mraise\u001b[39;00m e\u001b[38;5;241m.\u001b[39mwith_traceback(filtered_tb) \u001b[38;5;28;01mfrom\u001b[39;00m \u001b[38;5;28;01mNone\u001b[39;00m\n\u001b[0;32m    123\u001b[0m \u001b[38;5;28;01mfinally\u001b[39;00m:\n\u001b[0;32m    124\u001b[0m     \u001b[38;5;28;01mdel\u001b[39;00m filtered_tb\n",
      "File \u001b[1;32m~\\AppData\\Local\\Programs\\Python\\Python312\\Lib\\site-packages\\keras\\src\\utils\\traceback_utils.py:122\u001b[0m, in \u001b[0;36mfilter_traceback.<locals>.error_handler\u001b[1;34m(*args, **kwargs)\u001b[0m\n\u001b[0;32m    119\u001b[0m     filtered_tb \u001b[38;5;241m=\u001b[39m _process_traceback_frames(e\u001b[38;5;241m.\u001b[39m__traceback__)\n\u001b[0;32m    120\u001b[0m     \u001b[38;5;66;03m# To get the full stack trace, call:\u001b[39;00m\n\u001b[0;32m    121\u001b[0m     \u001b[38;5;66;03m# `keras.config.disable_traceback_filtering()`\u001b[39;00m\n\u001b[1;32m--> 122\u001b[0m     \u001b[38;5;28;01mraise\u001b[39;00m e\u001b[38;5;241m.\u001b[39mwith_traceback(filtered_tb) \u001b[38;5;28;01mfrom\u001b[39;00m \u001b[38;5;28;01mNone\u001b[39;00m\n\u001b[0;32m    123\u001b[0m \u001b[38;5;28;01mfinally\u001b[39;00m:\n\u001b[0;32m    124\u001b[0m     \u001b[38;5;28;01mdel\u001b[39;00m filtered_tb\n",
      "\u001b[1;31mValueError\u001b[0m: Exception encountered when calling Sequential.call().\n\n\u001b[1mCannot take the length of shape with unknown rank.\u001b[0m\n\nArguments received by Sequential.call():\n  • inputs=tf.Tensor(shape=<unknown>, dtype=int32)\n  • training=False\n  • mask=None"
     ]
    }
   ],
   "source": [
    "model.predict(embedded_docs[0])"
   ]
  },
  {
   "cell_type": "code",
   "execution_count": null,
   "id": "284c9838-0d2b-435e-8d16-1954a5d55596",
   "metadata": {},
   "outputs": [],
   "source": []
  }
 ],
 "metadata": {
  "kernelspec": {
   "display_name": "Python 3 (ipykernel)",
   "language": "python",
   "name": "python3"
  },
  "language_info": {
   "codemirror_mode": {
    "name": "ipython",
    "version": 3
   },
   "file_extension": ".py",
   "mimetype": "text/x-python",
   "name": "python",
   "nbconvert_exporter": "python",
   "pygments_lexer": "ipython3",
   "version": "3.12.4"
  }
 },
 "nbformat": 4,
 "nbformat_minor": 5
}
